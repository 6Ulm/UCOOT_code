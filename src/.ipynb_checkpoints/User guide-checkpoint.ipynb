{
 "cells": [
  {
   "cell_type": "code",
   "execution_count": 1,
   "id": "f317daab",
   "metadata": {},
   "outputs": [
    {
     "name": "stdout",
     "output_type": "stream",
     "text": [
      "Torch version: 1.10.1\n",
      "CUDA available: False\n",
      "CUDA version: 10.2\n",
      "CUDNN version: 7605\n"
     ]
    }
   ],
   "source": [
    "import os\n",
    "import torch\n",
    "print('Torch version: {}'.format(torch.__version__))\n",
    "print('CUDA available: {}'.format(torch.cuda.is_available()))\n",
    "print('CUDA version: {}'.format(torch.version.cuda))\n",
    "print('CUDNN version: {}'.format(torch.backends.cudnn.version()))\n",
    "\n",
    "use_cuda = torch.cuda.is_available()\n",
    "device = torch.device(\"cuda:0\" if use_cuda else \"cpu\")\n",
    "torch.backends.cudnn.benchmark=True"
   ]
  },
  {
   "cell_type": "code",
   "execution_count": null,
   "id": "b4b17b0c",
   "metadata": {},
   "outputs": [],
   "source": [
    "os.chdir(path)\n",
    "from src.megawass import MegaWass\n",
    "from src.numpy.cot import cot_numpy\n",
    "from src.coot import solver as coot_solver"
   ]
  },
  {
   "cell_type": "markdown",
   "id": "d8a17a73",
   "metadata": {},
   "source": [
    "# Preparing data"
   ]
  },
  {
   "cell_type": "code",
   "execution_count": null,
   "id": "9b9be22b",
   "metadata": {},
   "outputs": [],
   "source": [
    "# generate simulated data\n",
    "nx = 1000\n",
    "dx = 30\n",
    "ny = 2000\n",
    "dy = 20\n",
    "\n",
    "x = torch.rand(nx, dx).to(device)\n",
    "y = torch.rand(ny, dy).to(device)\n",
    "Cx = torch.cdist(x, x, p=2)**2\n",
    "Cy = torch.cdist(y, y, p=2)**2"
   ]
  },
  {
   "cell_type": "markdown",
   "id": "a05026c2",
   "metadata": {},
   "source": [
    "# UCOOT"
   ]
  },
  {
   "cell_type": "markdown",
   "id": "51cb633d",
   "metadata": {},
   "source": [
    "Given $2$ matrices of arbitrary size: $X_1 \\in \\mathbb R^{n_1 \\times d_1}$ and $X_2 \\in \\mathbb R^{n_2 \\times d_2}$, and $4$ corresponding histograms assigned to their rows and columns $\\mu_{n_1}, \\mu_{d_1}, \\mu_{n_2}$ and $\\mu_{d_2}$, the method $\\texttt{solver_fucoot}$ solves\n",
    "\\begin{equation*}\n",
    "    \\begin{split}\n",
    "        \\text{FUCOOT}_{\\rho, \\lambda, \\varepsilon}(X_1, X_2) \n",
    "        &= \\inf_{\\substack{P_s \\in \\mathbb R^{n_1 \\times n_2}_{\\geq 0} \\\\ P_f \\in \\mathbb R^{d_1 \\times d_2}_{\\geq 0}}} \\text{func}(P_s, P_f) \n",
    "    \\end{split}\n",
    "\\end{equation*}\n",
    "where the function\n",
    "\\begin{equation*}\n",
    "    \\begin{split}\n",
    "        \\text{func}(P_s, P_f) \n",
    "        &= \\langle | X_1 - X_2 |^2, P_s \\otimes P_f \\rangle \n",
    "        + \\alpha_s \\langle D_s, P_s \\rangle + \\alpha_f \\langle D_f, P_f \\rangle \\\\\n",
    "        &+ \\rho_1 \\text{KL}(\\text{some function of $P_s$ and $P_f$} \\vert \\mu_{n_1} \\otimes \\mu_{d_1}) \n",
    "        + \\rho_2 \\text{KL}(\\text{some function of $P_s$ and $P_f$} \\vert \\mu_{n_2} \\otimes \\mu_{d_2})  \\\\\n",
    "        &+ \\varepsilon_s \\text{KL}(P_s | \\mu_{n_1} \\otimes \\mu_{n_2}) + \n",
    "        \\varepsilon_f \\text{KL}(P_f | \\mu_{d_1} \\otimes \\mu_{d_2}).\n",
    "    \\end{split}\n",
    "\\end{equation*}\n",
    "Here, the subscripts \"s\" and \"f\" mean sample and feature.\n",
    "\n",
    "Some notes on the input arguments:\n",
    "\n",
    "- By default, all histograms are uniform distributions, so just leave it as None if you don't want something else.\n",
    "\n",
    "- The input matrices $D_s \\in \\mathbb R^{n_1 \\times n_2}$ and $D_f \\in \\mathbb R^{d_1 \\times d_2}$ present prior knowledge (if available) on the sample and feature couplings, respectively. If they are not available, then just leave it as None.\n",
    "\n",
    "- The marginal relaxation parameters $\\rho_1$ and $\\rho_2$ can take any nonnegative values. It is also possible to use infinity value (by setting, e.g. $\\rho_1 = \\rho_2 = \\texttt{float(\"inf\")})$. In that case, you are doing (balanced) COOT and your epsilon **must** be **strictly positive**.\n",
    "\n",
    "- The regularisation parameters $\\varepsilon_s$ and $\\varepsilon_f$ can be **any** nonnegative values, **even zero**. **Important note**: if at least one of them is zero, then $\\rho_1$ and $\\rho_2$ must **not** contain infinity values. (because we use another algorithm to solve the case zero epsilon and it won't work with infinity value).\n",
    "\n",
    "- In case that you use zero epsilon, it may be desirable to increase argument $\\texttt{nits_uot}$ because the algorithm may converge not fast enough.\n",
    "\n",
    "- It is possible to trigger the early stopping if you see that the current and previous costs do not much differ. To do this, set your threshold via the argument $\\texttt{early_stopping_tol}$.\n",
    "\n",
    "- It is recommended that you set $\\texttt{verbose = True}$, so that you can see the evolution of costs. \n",
    "It is also possible to save the training cost by setting $\\texttt{log = True}$."
   ]
  },
  {
   "cell_type": "code",
   "execution_count": null,
   "id": "e5a9131f",
   "metadata": {},
   "outputs": [],
   "source": [
    "rho = (1e-1, 1e-1)\n",
    "eps = (1e-2, 0)\n",
    "alpha = (1, 1) # optional, only care if D_s and / or D_f is available\n",
    "D = (None, None) # optional, only care if D_s and / or D_f is available\n",
    "\n",
    "megawass = MegaWass(nits_bcd=100, nits_uot=1000, tol_bcd=1e-6, tol_uot=1e-6, eval_bcd=1, eval_uot=20)\n",
    "\n",
    "(pi_samp, pi_feat), _, log_cost, log_ent_cost = megawass.solver_fucoot(\n",
    "        X=x,\n",
    "        Y=y,\n",
    "        rho=rho,\n",
    "        eps=1e-3,\n",
    "        alpha=1,\n",
    "        D=C_samp,\n",
    "        log=True,\n",
    "        verbose=True,\n",
    "        early_stopping_tol=1e-6\n",
    "    )"
   ]
  },
  {
   "cell_type": "code",
   "execution_count": null,
   "id": "64f75197",
   "metadata": {},
   "outputs": [],
   "source": []
  },
  {
   "cell_type": "code",
   "execution_count": 3,
   "id": "e0c79356",
   "metadata": {
    "scrolled": true
   },
   "outputs": [
    {
     "name": "stderr",
     "output_type": "stream",
     "text": [
      "/home/huy/anaconda3/lib/python3.9/site-packages/ot/bregman.py:517: UserWarning: Sinkhorn did not converge. You might want to increase the number of iterations `numItermax` or the regularization parameter `reg`.\n",
      "  warnings.warn(\"Sinkhorn did not converge. You might want to \"\n"
     ]
    },
    {
     "data": {
      "text/plain": [
       "tensor(-0.0001)"
      ]
     },
     "execution_count": 3,
     "metadata": {},
     "output_type": "execute_result"
    }
   ],
   "source": [
    "eps = 5e-1\n",
    "ot.sinkhorn2(a, b, K, eps) - 0.5 * (ot.sinkhorn2(a, a, K, eps) + ot.sinkhorn2(b, b, K, eps))"
   ]
  },
  {
   "cell_type": "code",
   "execution_count": 110,
   "id": "1edb7860",
   "metadata": {},
   "outputs": [],
   "source": [
    "m = 10\n",
    "n = 30\n",
    "d = 2\n",
    "x = torch.rand((m,d))\n",
    "y = torch.rand((n,d))\n",
    "cost = torch.cdist(x,y,p=2)\n",
    "\n",
    "a = torch.ones(m) / m\n",
    "b = torch.ones(n) / n\n",
    "log_a, log_b = a.log(), b.log()\n",
    "\n",
    "ab = a[:, None] * b[None, :]\n",
    "tuple_ab = (log_a, log_b, ab)\n",
    "\n",
    "tol = 1e-6\n",
    "niter = 2000"
   ]
  },
  {
   "cell_type": "code",
   "execution_count": 111,
   "id": "88f43669",
   "metadata": {},
   "outputs": [
    {
     "name": "stderr",
     "output_type": "stream",
     "text": [
      "100%|█████████████████████████████████████| 1000/1000 [00:00<00:00, 4754.32it/s]"
     ]
    },
    {
     "name": "stdout",
     "output_type": "stream",
     "text": [
      "torch.Size([300]) torch.Size([300]) torch.Size([300])\n"
     ]
    },
    {
     "name": "stderr",
     "output_type": "stream",
     "text": [
      "\n"
     ]
    },
    {
     "data": {
      "text/plain": [
       "tensor(indices=tensor([[ 0,  0,  0,  0,  0,  0,  0,  0,  0,  0,  0,  0,  0,  0,\n",
       "                         0,  0,  0,  0,  0,  0,  0,  0,  0,  0,  0,  0,  0,  0,\n",
       "                         0,  0,  1,  1,  1,  1,  1,  1,  1,  1,  1,  1,  1,  1,\n",
       "                         1,  1,  1,  1,  1,  1,  1,  1,  1,  1,  1,  1,  1,  1,\n",
       "                         1,  1,  1,  1,  2,  2,  2,  2,  2,  2,  2,  2,  2,  2,\n",
       "                         2,  2,  2,  2,  2,  2,  2,  2,  2,  2,  2,  2,  2,  2,\n",
       "                         2,  2,  2,  2,  2,  2,  3,  3,  3,  3,  3,  3,  3,  3,\n",
       "                         3,  3,  3,  3,  3,  3,  3,  3,  3,  3,  3,  3,  3,  3,\n",
       "                         3,  3,  3,  3,  3,  3,  3,  3,  4,  4,  4,  4,  4,  4,\n",
       "                         4,  4,  4,  4,  4,  4,  4,  4,  4,  4,  4,  4,  4,  4,\n",
       "                         4,  4,  4,  4,  4,  4,  4,  4,  4,  4,  5,  5,  5,  5,\n",
       "                         5,  5,  5,  5,  5,  5,  5,  5,  5,  5,  5,  5,  5,  5,\n",
       "                         5,  5,  5,  5,  5,  5,  5,  5,  5,  5,  5,  5,  6,  6,\n",
       "                         6,  6,  6,  6,  6,  6,  6,  6,  6,  6,  6,  6,  6,  6,\n",
       "                         6,  6,  6,  6,  6,  6,  6,  6,  6,  6,  6,  6,  6,  6,\n",
       "                         7,  7,  7,  7,  7,  7,  7,  7,  7,  7,  7,  7,  7,  7,\n",
       "                         7,  7,  7,  7,  7,  7,  7,  7,  7,  7,  7,  7,  7,  7,\n",
       "                         7,  7,  8,  8,  8,  8,  8,  8,  8,  8,  8,  8,  8,  8,\n",
       "                         8,  8,  8,  8,  8,  8,  8,  8,  8,  8,  8,  8,  8,  8,\n",
       "                         8,  8,  8,  8,  9,  9,  9,  9,  9,  9,  9,  9,  9,  9,\n",
       "                         9,  9,  9,  9,  9,  9,  9,  9,  9,  9,  9,  9,  9,  9,\n",
       "                         9,  9,  9,  9,  9,  9],\n",
       "                       [ 0,  1,  2,  3,  4,  5,  6,  7,  8,  9, 10, 11, 12, 13,\n",
       "                        14, 15, 16, 17, 18, 19, 20, 21, 22, 23, 24, 25, 26, 27,\n",
       "                        28, 29,  0,  1,  2,  3,  4,  5,  6,  7,  8,  9, 10, 11,\n",
       "                        12, 13, 14, 15, 16, 17, 18, 19, 20, 21, 22, 23, 24, 25,\n",
       "                        26, 27, 28, 29,  0,  1,  2,  3,  4,  5,  6,  7,  8,  9,\n",
       "                        10, 11, 12, 13, 14, 15, 16, 17, 18, 19, 20, 21, 22, 23,\n",
       "                        24, 25, 26, 27, 28, 29,  0,  1,  2,  3,  4,  5,  6,  7,\n",
       "                         8,  9, 10, 11, 12, 13, 14, 15, 16, 17, 18, 19, 20, 21,\n",
       "                        22, 23, 24, 25, 26, 27, 28, 29,  0,  1,  2,  3,  4,  5,\n",
       "                         6,  7,  8,  9, 10, 11, 12, 13, 14, 15, 16, 17, 18, 19,\n",
       "                        20, 21, 22, 23, 24, 25, 26, 27, 28, 29,  0,  1,  2,  3,\n",
       "                         4,  5,  6,  7,  8,  9, 10, 11, 12, 13, 14, 15, 16, 17,\n",
       "                        18, 19, 20, 21, 22, 23, 24, 25, 26, 27, 28, 29,  0,  1,\n",
       "                         2,  3,  4,  5,  6,  7,  8,  9, 10, 11, 12, 13, 14, 15,\n",
       "                        16, 17, 18, 19, 20, 21, 22, 23, 24, 25, 26, 27, 28, 29,\n",
       "                         0,  1,  2,  3,  4,  5,  6,  7,  8,  9, 10, 11, 12, 13,\n",
       "                        14, 15, 16, 17, 18, 19, 20, 21, 22, 23, 24, 25, 26, 27,\n",
       "                        28, 29,  0,  1,  2,  3,  4,  5,  6,  7,  8,  9, 10, 11,\n",
       "                        12, 13, 14, 15, 16, 17, 18, 19, 20, 21, 22, 23, 24, 25,\n",
       "                        26, 27, 28, 29,  0,  1,  2,  3,  4,  5,  6,  7,  8,  9,\n",
       "                        10, 11, 12, 13, 14, 15, 16, 17, 18, 19, 20, 21, 22, 23,\n",
       "                        24, 25, 26, 27, 28, 29]]),\n",
       "       values=tensor([3.2986e-30, 2.2975e-13, 5.6052e-45, 1.0396e-12,\n",
       "                      1.9655e-02, 2.2748e-24, 3.8718e-40, 1.3211e-09,\n",
       "                      3.0392e-02, 8.8381e-05, 5.6052e-45, 6.6123e-24,\n",
       "                      1.5414e-44, 2.5106e-04, 6.0131e-33, 6.1068e-23,\n",
       "                      9.5150e-08, 5.6052e-45, 2.9064e-03, 3.2593e-26,\n",
       "                      3.3731e-02, 5.6052e-45, 1.7892e-35, 8.7066e-08,\n",
       "                      7.4932e-17, 2.6236e-10, 1.8514e-17, 1.0508e-19,\n",
       "                      2.9538e-12, 1.0045e-23, 5.6052e-45, 5.6052e-45,\n",
       "                      4.2039e-45, 5.6052e-45, 1.7474e-41, 3.2029e-02,\n",
       "                      5.6052e-45, 4.0445e-07, 8.1794e-42, 3.3953e-39,\n",
       "                      4.2039e-45, 4.2039e-45, 2.8026e-45, 6.9070e-42,\n",
       "                      4.2039e-45, 5.6052e-45, 4.8471e-42, 2.8026e-45,\n",
       "                      9.7671e-43, 8.8862e-07, 5.6052e-45, 2.8026e-45,\n",
       "                      4.2039e-45, 7.0065e-45, 3.1420e-02, 5.6052e-45,\n",
       "                      4.2039e-45, 4.2039e-45, 5.6052e-45, 3.0127e-02,\n",
       "                      2.6620e-12, 7.0065e-45, 3.2299e-02, 1.3284e-42,\n",
       "                      8.3594e-09, 7.0065e-45, 2.8026e-45, 5.6052e-45,\n",
       "                      1.0591e-23, 2.8026e-45, 3.0330e-02, 1.3308e-31,\n",
       "                      2.8026e-45, 6.4221e-06, 4.2039e-45, 2.9101e-02,\n",
       "                      1.2409e-14, 2.8026e-45, 1.0400e-04, 1.8217e-43,\n",
       "                      4.2039e-45, 1.4013e-45, 4.0498e-43, 1.5625e-05,\n",
       "                      4.2039e-45, 3.5371e-31, 7.5670e-44, 4.2039e-45,\n",
       "                      5.6052e-45, 7.0065e-45, 1.4960e-10, 1.0970e-25,\n",
       "                      1.0713e-29, 1.0279e-23, 8.1158e-03, 5.9406e-05,\n",
       "                      5.6052e-45, 3.3702e-02, 2.0023e-04, 6.5958e-29,\n",
       "                      5.8827e-32, 1.2404e-27, 4.2039e-45, 1.4720e-02,\n",
       "                      5.6052e-45, 2.4266e-14, 2.7038e-02, 4.2039e-45,\n",
       "                      6.7140e-04, 2.7863e-04, 2.8463e-24, 2.8026e-45,\n",
       "                      1.2427e-39, 1.9606e-07, 3.5571e-19, 2.0967e-18,\n",
       "                      7.3861e-28, 7.1218e-36, 1.8450e-25, 9.4945e-04,\n",
       "                      4.2039e-45, 4.6029e-14, 4.2039e-45, 4.3401e-14,\n",
       "                      2.4991e-19, 4.1163e-41, 3.4568e-02, 1.4926e-29,\n",
       "                      3.3481e-22, 3.3890e-02, 4.2039e-45, 3.2329e-33,\n",
       "                      8.9589e-26, 2.0245e-23, 1.7203e-21, 7.0065e-45,\n",
       "                      5.6625e-33, 3.7837e-18, 2.4050e-17, 7.0065e-45,\n",
       "                      3.8666e-14, 9.1112e-03, 2.0179e-43, 2.0161e-22,\n",
       "                      9.9741e-07, 8.1809e-15, 7.0798e-18, 1.5616e-13,\n",
       "                      4.0736e-14, 4.3227e-41, 3.3238e-02, 3.0497e-33,\n",
       "                      5.2867e-18, 2.8295e-30, 5.3471e-04, 2.4990e-05,\n",
       "                      4.2039e-45, 1.1445e-15, 5.9713e-09, 7.0065e-45,\n",
       "                      1.9104e-20, 2.5958e-29, 4.2039e-45, 1.3606e-02,\n",
       "                      5.6052e-45, 3.4080e-09, 4.0106e-03, 2.8026e-45,\n",
       "                      4.3002e-04, 3.2091e-02, 1.0629e-38, 2.8026e-45,\n",
       "                      2.4939e-41, 8.4860e-07, 2.3573e-30, 5.1911e-23,\n",
       "                      1.0698e-33, 7.0065e-45, 6.4749e-34, 9.8379e-04,\n",
       "                      1.4013e-45, 3.2429e-38, 2.8026e-45, 2.6431e-23,\n",
       "                      7.4637e-33, 1.4013e-45, 1.4013e-45, 1.4013e-45,\n",
       "                      4.2039e-45, 1.4013e-45, 2.8026e-45, 2.7887e-02,\n",
       "                      2.8026e-45, 5.6387e-40, 4.2039e-45, 5.6052e-45,\n",
       "                      2.8026e-45, 2.8026e-45, 2.2496e-02, 1.4013e-45,\n",
       "                      1.4013e-45, 1.4013e-45, 2.8397e-02, 2.6554e-02,\n",
       "                      1.4013e-45, 1.9948e-02, 8.3143e-09, 5.6052e-45,\n",
       "                      5.6052e-45, 1.4013e-45, 4.2039e-45, 2.9169e-02,\n",
       "                      2.8026e-45, 2.5243e-02, 2.1212e-10, 2.8026e-45,\n",
       "                      4.2039e-45, 4.2039e-45, 1.1843e-17, 1.1041e-41,\n",
       "                      4.2039e-45, 1.8234e-21, 1.5782e-22, 1.1973e-15,\n",
       "                      2.2137e-13, 1.6161e-40, 1.8029e-32, 4.7145e-34,\n",
       "                      1.3380e-06, 2.8026e-45, 6.8691e-26, 4.2039e-45,\n",
       "                      1.4866e-31, 1.0443e-11, 4.2039e-45, 6.1517e-03,\n",
       "                      2.2190e-06, 7.6018e-03, 3.0227e-02, 4.2039e-45,\n",
       "                      2.8026e-45, 2.9582e-06, 2.8026e-45, 2.9790e-03,\n",
       "                      5.3957e-27, 2.8026e-45, 2.8026e-45, 2.8026e-45,\n",
       "                      4.2039e-44, 4.2039e-45, 2.8026e-45, 4.1894e-24,\n",
       "                      3.2314e-02, 3.6636e-34, 3.1047e-02, 4.2039e-45,\n",
       "                      4.2039e-45, 1.6249e-12, 9.8252e-16, 2.8026e-45,\n",
       "                      4.2039e-45, 4.2039e-45, 2.1042e-31, 2.9510e-20,\n",
       "                      2.8026e-45, 1.4213e-03, 2.8210e-02, 2.3617e-03,\n",
       "                      1.2725e-13, 2.8026e-45, 4.2039e-45, 2.2346e-04,\n",
       "                      2.8026e-45, 4.2131e-04, 4.9579e-15, 5.6052e-45,\n",
       "                      1.3661e-28, 7.0065e-45, 5.4473e-21, 1.3828e-15,\n",
       "                      4.2039e-45, 9.4451e-25, 1.4211e-11, 3.8292e-20,\n",
       "                      1.2648e-08, 1.2612e-44, 2.5727e-34, 3.2936e-02,\n",
       "                      5.7879e-11, 4.2039e-45, 1.0052e-17, 2.6820e-02,\n",
       "                      2.9204e-34, 4.6031e-16, 3.1584e-31, 3.0031e-05,\n",
       "                      4.5681e-07, 2.0359e-02, 1.3109e-05, 5.6052e-45]),\n",
       "       size=(10, 30), nnz=300, layout=torch.sparse_coo)"
      ]
     },
     "execution_count": 111,
     "metadata": {},
     "output_type": "execute_result"
    }
   ],
   "source": [
    "init_pi = ab\n",
    "params = (1,2,0)\n",
    "pi = uot_mm(cost, init_pi, tuple_ab, params, n_iters=1000, tol=1e-8, eval_freq=1)\n",
    "pi"
   ]
  },
  {
   "cell_type": "code",
   "execution_count": 100,
   "id": "2da306da",
   "metadata": {},
   "outputs": [
    {
     "data": {
      "text/plain": [
       "<matplotlib.image.AxesImage at 0x7f6e344e7850>"
      ]
     },
     "execution_count": 100,
     "metadata": {},
     "output_type": "execute_result"
    },
    {
     "data": {
      "image/png": "[encoded data removed]",
      "text/plain": [
       "<Figure size 432x288 with 1 Axes>"
      ]
     },
     "metadata": {
      "needs_background": "light"
     },
     "output_type": "display_data"
    }
   ],
   "source": [
    "plt.imshow(pi.to_dense().cpu().numpy())"
   ]
  },
  {
   "cell_type": "code",
   "execution_count": 83,
   "id": "1b6f5b1e",
   "metadata": {},
   "outputs": [
    {
     "name": "stderr",
     "output_type": "stream",
     "text": [
      "100%|███████████████████████████████████| 20000/20000 [00:07<00:00, 2522.31it/s]\n"
     ]
    },
    {
     "data": {
      "text/plain": [
       "tensor(indices=tensor([[  0,   0,   0,  ...,  99,  99,  99],\n",
       "                       [104, 111, 114,  ..., 222, 278, 284]]),\n",
       "       values=tensor([4.1707e-38, 3.4111e-03, 3.3612e-03, 2.6642e-03,\n",
       "                      7.4848e-32, 2.5264e-34, 2.7060e-03, 3.0278e-03,\n",
       "                      1.9799e-15, 3.0659e-03, 2.9866e-03, 1.3115e-31,\n",
       "                      1.6322e-03, 3.5085e-03, 2.4163e-04, 3.4808e-03,\n",
       "                      3.3794e-03, 1.3731e-03, 3.3900e-03, 4.9641e-36,\n",
       "                      8.2758e-04, 5.7455e-04, 3.2836e-03, 7.4774e-19,\n",
       "                      1.4072e-06, 3.4551e-03, 7.1848e-04, 1.0451e-05,\n",
       "                      1.2315e-03, 2.4153e-06, 3.9879e-04, 3.1994e-03,\n",
       "                      3.1487e-39, 7.9919e-20, 1.6485e-03, 2.1041e-03,\n",
       "                      6.1510e-29, 3.2194e-35, 3.1149e-03, 9.6414e-32,\n",
       "                      1.4248e-03, 1.9004e-06, 3.3896e-03, 1.2128e-29,\n",
       "                      4.0098e-27, 3.2449e-03, 1.2992e-03, 3.3041e-03,\n",
       "                      1.1512e-03, 1.7083e-03, 3.3763e-03, 1.3832e-12,\n",
       "                      3.4356e-03, 2.1418e-03, 2.1368e-36, 3.1465e-03,\n",
       "                      9.5797e-09, 1.2894e-09, 2.4032e-03, 9.3262e-34,\n",
       "                      3.3980e-07, 4.9368e-12, 4.4072e-38, 1.0061e-42,\n",
       "                      1.0593e-08, 1.5134e-03, 2.5529e-03, 3.4453e-04,\n",
       "                      7.5292e-42, 2.6320e-03, 2.3047e-12, 2.8336e-07,\n",
       "                      1.0692e-28, 2.9355e-03, 3.0669e-03, 1.6496e-04,\n",
       "                      1.1579e-07, 1.5723e-03, 3.0862e-03, 1.4166e-24,\n",
       "                      3.3924e-03, 7.4684e-04, 3.3200e-03, 1.9945e-03,\n",
       "                      4.0186e-31, 4.9548e-04, 7.4863e-11, 3.2444e-03,\n",
       "                      6.0581e-32, 7.8257e-21, 2.3622e-06, 3.2492e-03,\n",
       "                      1.5752e-03, 1.1986e-03, 3.8431e-04, 2.3078e-30,\n",
       "                      3.2410e-32, 1.4013e-45, 3.6256e-13, 9.5503e-07,\n",
       "                      1.4286e-30, 3.3117e-03, 7.6640e-10, 2.7006e-03,\n",
       "                      3.3892e-03, 2.6638e-03, 3.2956e-03, 5.6052e-45,\n",
       "                      3.3537e-03, 9.8172e-26, 1.3942e-03, 3.3050e-03,\n",
       "                      1.7659e-03, 3.0309e-03, 2.5589e-21, 2.5296e-03,\n",
       "                      3.1861e-03, 1.8399e-22, 3.3726e-03, 6.5583e-32,\n",
       "                      1.7003e-11, 8.7979e-14, 3.3834e-03, 2.7704e-03,\n",
       "                      3.3320e-03, 2.4629e-08, 2.1639e-05, 6.1654e-19,\n",
       "                      1.5500e-03, 2.1819e-29, 1.6374e-16, 1.4359e-29,\n",
       "                      5.0811e-04, 6.4154e-08, 3.4854e-03, 9.0079e-28,\n",
       "                      5.7356e-16, 4.0039e-25, 3.0015e-07, 5.6206e-42,\n",
       "                      5.1798e-16, 3.4702e-05, 8.2591e-37, 2.3417e-29,\n",
       "                      3.4595e-03, 2.6045e-03, 3.3173e-03, 7.8192e-43,\n",
       "                      3.3895e-03, 1.4509e-39, 4.9882e-07, 1.9709e-37,\n",
       "                      2.3696e-42, 2.5133e-03, 1.6463e-25, 4.0516e-14,\n",
       "                      2.2141e-27, 2.1317e-03, 3.0464e-16, 6.2290e-04,\n",
       "                      2.9158e-15, 6.5637e-04, 6.9332e-18, 1.2311e-03,\n",
       "                      5.5210e-25, 6.6671e-34, 5.6538e-30, 1.7345e-03,\n",
       "                      6.9322e-42, 3.9776e-10, 1.2983e-03, 3.3002e-03,\n",
       "                      3.5253e-03, 6.8254e-04, 2.8590e-32, 6.4639e-26,\n",
       "                      2.4588e-03, 1.1052e-03, 2.0919e-03, 3.4544e-03,\n",
       "                      3.2268e-03, 3.2315e-03, 3.2243e-03, 7.1871e-04,\n",
       "                      3.4415e-03, 4.0754e-36, 3.4228e-03, 1.9321e-03,\n",
       "                      5.9030e-11, 2.3978e-06, 3.2016e-03, 3.3020e-03,\n",
       "                      4.7287e-34, 6.7887e-14, 3.2333e-04, 1.6453e-03,\n",
       "                      9.0548e-04, 5.6199e-13, 1.5797e-10, 7.4269e-44,\n",
       "                      9.0149e-04, 3.4641e-26, 1.4013e-45, 5.8391e-23,\n",
       "                      8.8493e-27, 1.2559e-03, 8.0545e-20, 2.5188e-03,\n",
       "                      5.5929e-15, 2.3449e-03, 2.0508e-03, 1.3809e-25,\n",
       "                      2.9986e-05, 1.9774e-15, 2.0376e-03, 3.3799e-03,\n",
       "                      3.2762e-03, 1.7386e-10, 7.6180e-06, 5.2156e-30,\n",
       "                      3.1589e-03, 9.4568e-11, 8.9206e-32, 2.8065e-29,\n",
       "                      2.6009e-33, 1.1961e-04, 3.2408e-03, 3.2816e-03,\n",
       "                      1.2479e-07, 1.2271e-13, 3.8682e-15, 1.0200e-29,\n",
       "                      3.2833e-03, 9.0501e-10, 4.3852e-39, 2.5321e-39,\n",
       "                      2.6381e-09, 1.3521e-03, 1.0633e-22, 2.6311e-03,\n",
       "                      6.6523e-38, 8.1622e-19, 4.7464e-09, 2.3262e-03,\n",
       "                      8.7457e-04, 3.3903e-03, 1.7628e-03, 1.1289e-30,\n",
       "                      1.4535e-23, 3.3505e-03, 2.6154e-24, 3.3151e-38,\n",
       "                      6.6125e-23, 4.0694e-22, 2.1344e-24, 4.1530e-17,\n",
       "                      8.6978e-38, 2.3906e-03, 3.3153e-03, 1.0547e-03,\n",
       "                      3.3080e-03, 3.1974e-03, 4.7455e-31, 6.6675e-04,\n",
       "                      1.9816e-07, 3.2132e-03, 1.4651e-08, 7.6926e-08,\n",
       "                      2.2408e-03, 3.2547e-03, 3.1693e-03, 2.9018e-25,\n",
       "                      7.3985e-04, 7.1152e-04, 2.4905e-03, 1.0969e-23,\n",
       "                      1.9568e-03, 9.2227e-13, 1.8000e-36, 2.3412e-09,\n",
       "                      3.3968e-24, 2.3098e-03, 2.6391e-18, 6.0540e-32,\n",
       "                      7.7117e-30, 9.7853e-42, 4.5859e-34, 2.6389e-03,\n",
       "                      4.3615e-29, 3.1755e-03, 2.2744e-06, 3.2650e-03,\n",
       "                      9.0766e-04, 3.3394e-03, 2.0175e-03, 2.1664e-13,\n",
       "                      2.8460e-32, 3.5363e-04, 3.2159e-03, 5.4089e-19,\n",
       "                      3.3393e-03, 2.6900e-23, 2.8245e-03, 3.3806e-03,\n",
       "                      4.7142e-29, 8.0913e-13, 3.3357e-03, 2.6928e-31,\n",
       "                      3.6707e-37, 2.3158e-03, 3.2451e-04, 1.6831e-29,\n",
       "                      1.9600e-03, 8.1987e-22, 3.3373e-03, 3.3626e-03,\n",
       "                      9.0886e-04, 2.5007e-03, 3.0826e-10, 1.1106e-16,\n",
       "                      2.1830e-04, 6.1555e-38, 1.0806e-07, 2.9657e-37,\n",
       "                      5.3192e-32, 3.3998e-03, 7.8027e-28, 3.9186e-08,\n",
       "                      3.3777e-03, 3.3915e-03, 1.4585e-03, 7.8642e-04,\n",
       "                      3.3738e-03, 3.4361e-03, 3.4785e-03, 3.0898e-04,\n",
       "                      2.8617e-31, 1.8636e-03, 8.8632e-04, 9.6805e-12,\n",
       "                      3.3137e-03, 3.2982e-03, 2.0567e-03, 3.2752e-03,\n",
       "                      3.1778e-03, 1.0988e-05, 3.1497e-03, 2.2757e-04,\n",
       "                      3.3435e-03, 5.6052e-45, 3.2131e-03, 1.5660e-32,\n",
       "                      7.1433e-38, 3.1789e-03, 5.8839e-04, 1.8464e-03,\n",
       "                      7.5586e-36, 3.3306e-03, 3.4522e-03, 1.9134e-24,\n",
       "                      1.1395e-40, 4.9466e-39, 4.2490e-14, 3.4092e-03,\n",
       "                      3.5893e-30, 3.1121e-03, 2.5293e-03, 1.0731e-23,\n",
       "                      1.0334e-11, 2.0600e-04, 1.7428e-12, 1.3471e-19,\n",
       "                      1.0669e-05, 8.0533e-04, 1.4457e-15, 2.7173e-29,\n",
       "                      1.1235e-31, 3.3534e-03, 2.2920e-34, 1.1219e-21,\n",
       "                      3.3267e-03, 4.1759e-43, 8.5164e-16, 1.0759e-03,\n",
       "                      3.3402e-03, 3.3688e-03, 2.3009e-05, 2.5426e-03,\n",
       "                      4.2904e-31, 3.2562e-03, 3.2297e-03, 1.9094e-04,\n",
       "                      3.2635e-03, 2.9298e-03, 2.9978e-03, 2.4560e-05,\n",
       "                      3.0284e-03, 9.4758e-17, 2.9157e-18, 2.9447e-03,\n",
       "                      1.0050e-03, 2.9543e-03, 2.9194e-03, 2.2981e-03,\n",
       "                      2.9303e-03, 3.3296e-03, 8.3325e-23, 8.7631e-36,\n",
       "                      5.6520e-31, 3.2272e-03, 2.3764e-09, 3.0715e-03,\n",
       "                      2.4500e-03, 3.3536e-40, 1.9550e-29, 3.1311e-03,\n",
       "                      2.7848e-41, 2.1479e-36, 1.0515e-11, 2.6911e-20,\n",
       "                      4.0287e-24, 2.2656e-16, 3.4037e-03, 1.1386e-28,\n",
       "                      3.1582e-29, 9.1817e-16, 4.2213e-14, 6.8670e-37,\n",
       "                      1.0145e-04, 2.6643e-17, 2.9613e-03, 3.3618e-05,\n",
       "                      6.4012e-19, 8.5685e-35, 7.4894e-04, 2.9940e-03,\n",
       "                      2.9785e-03, 6.4544e-07, 9.2717e-18, 4.6095e-22,\n",
       "                      1.0464e-03, 3.8718e-42, 7.6444e-20, 4.0835e-23,\n",
       "                      1.0023e-32, 2.2321e-03, 3.4642e-03, 3.4046e-03,\n",
       "                      2.7836e-03, 1.0612e-03, 1.1949e-09, 2.9287e-03,\n",
       "                      2.9241e-03, 2.9346e-03, 3.5851e-06, 1.4013e-45,\n",
       "                      2.9731e-03, 2.0878e-04, 3.4138e-11, 5.9777e-04,\n",
       "                      2.1914e-03, 3.3994e-03, 4.1985e-31, 6.6605e-38,\n",
       "                      1.9618e-44, 3.7255e-10, 2.8026e-45, 9.6264e-35,\n",
       "                      3.2123e-03, 1.9372e-03, 2.3761e-04, 5.4667e-35,\n",
       "                      4.9463e-32, 1.0662e-03, 3.1787e-03, 1.4348e-17,\n",
       "                      8.1120e-04, 1.8554e-33, 2.8789e-03, 1.0465e-36,\n",
       "                      2.1133e-18, 3.2389e-03, 1.1210e-44, 3.3864e-16,\n",
       "                      1.2557e-31, 8.6336e-04, 2.9311e-03, 3.1928e-05,\n",
       "                      3.2180e-03, 7.8974e-26, 3.3540e-03, 3.1660e-03,\n",
       "                      7.9075e-10, 6.0208e-07, 3.2947e-03, 8.3015e-07,\n",
       "                      2.9779e-32, 4.2039e-45, 5.9522e-21, 6.3391e-14,\n",
       "                      4.0094e-30, 2.6696e-03, 4.3462e-04, 2.2084e-33,\n",
       "                      7.6912e-04, 1.6650e-31, 2.5684e-04, 5.7293e-32,\n",
       "                      6.3051e-04, 1.0637e-03, 1.6531e-27, 3.8378e-21,\n",
       "                      1.5185e-25, 3.2040e-03, 2.3787e-03, 6.4445e-04,\n",
       "                      3.3710e-03, 8.9573e-32, 3.3204e-03, 4.8770e-07,\n",
       "                      1.4767e-37, 1.1869e-38, 2.4411e-03, 3.4006e-03,\n",
       "                      3.1117e-03, 2.6675e-38, 5.1473e-24, 1.6168e-24,\n",
       "                      1.2780e-42, 2.7044e-09, 1.9883e-04, 3.0466e-24,\n",
       "                      7.6918e-06, 5.2228e-18, 7.0681e-42, 3.1757e-03,\n",
       "                      2.5496e-09, 1.0937e-24, 3.1421e-03, 1.8686e-03,\n",
       "                      2.5624e-21, 3.4153e-03, 3.4500e-03, 1.5739e-04,\n",
       "                      6.9360e-19, 6.8916e-04, 3.3749e-03, 9.3548e-19,\n",
       "                      1.6333e-27, 5.3352e-05, 2.9433e-35, 5.0286e-18,\n",
       "                      1.4803e-12, 7.7764e-13, 2.6088e-20, 5.8800e-11,\n",
       "                      7.0875e-05, 3.9238e-16, 3.4500e-34, 3.5029e-27,\n",
       "                      8.5916e-14, 3.3489e-03, 1.1406e-38, 1.3578e-03,\n",
       "                      7.8322e-06, 3.1223e-03, 1.7744e-31, 1.4502e-03,\n",
       "                      3.0271e-03, 2.8715e-05, 3.1234e-03, 2.6131e-03,\n",
       "                      3.4884e-03, 1.1533e-05, 1.4617e-18, 1.4013e-45,\n",
       "                      2.7011e-07, 1.9523e-03, 3.0548e-42, 3.8846e-04,\n",
       "                      3.9936e-30, 1.0141e-41, 1.6816e-44, 2.9246e-03,\n",
       "                      1.5677e-03, 2.9612e-03, 8.7999e-04, 2.9584e-03,\n",
       "                      1.8586e-03, 3.3145e-03, 2.2160e-41, 1.5409e-05,\n",
       "                      1.1103e-03, 3.3791e-03, 3.3653e-03, 3.3788e-03,\n",
       "                      2.0302e-09, 1.8104e-35, 1.8399e-16, 2.9963e-22,\n",
       "                      4.6553e-22, 2.4524e-03, 6.6596e-09, 3.2283e-04,\n",
       "                      3.9376e-43, 1.4013e-45, 5.1550e-04, 2.9509e-03,\n",
       "                      1.2117e-03, 5.3247e-10, 1.5278e-16, 1.9899e-03,\n",
       "                      3.7715e-06, 2.0948e-03, 1.0954e-34, 1.8765e-03,\n",
       "                      2.1566e-31, 2.8833e-30, 3.2753e-03, 3.0345e-03,\n",
       "                      7.8529e-38, 2.3233e-03, 7.9402e-04, 1.2999e-04,\n",
       "                      2.9427e-03, 2.9140e-03, 2.9778e-03, 2.9233e-03,\n",
       "                      1.2832e-10, 1.6774e-03, 3.0215e-03, 2.8878e-03,\n",
       "                      3.0018e-03, 4.7522e-18, 3.9669e-04, 5.7554e-38,\n",
       "                      1.0762e-05, 6.3690e-04, 2.3601e-41, 1.6110e-37,\n",
       "                      3.2831e-03, 3.2911e-03, 3.0084e-05, 3.2410e-03,\n",
       "                      8.6096e-17, 3.3377e-03, 3.2247e-03, 7.1167e-04,\n",
       "                      1.2516e-30, 2.4605e-03, 6.3214e-13, 9.3854e-18,\n",
       "                      3.3710e-03, 4.8132e-26, 3.5708e-22, 3.3788e-03,\n",
       "                      2.0992e-03, 2.7343e-04, 3.0961e-13, 3.4600e-03,\n",
       "                      1.0020e-21, 6.0996e-24, 3.1524e-03, 1.4620e-03,\n",
       "                      9.4267e-04, 3.3188e-03, 3.3009e-03, 3.1578e-03,\n",
       "                      2.2143e-09, 1.5148e-04, 5.0305e-28, 3.0465e-03,\n",
       "                      1.4013e-45, 3.2214e-03, 3.3096e-03, 8.7208e-26,\n",
       "                      3.2959e-03, 3.3557e-03, 3.0319e-03, 1.6592e-28,\n",
       "                      3.3488e-03, 3.3410e-03, 2.5255e-03, 4.7787e-04,\n",
       "                      3.2748e-03, 3.2605e-03, 1.2417e-13, 8.0984e-04,\n",
       "                      2.9495e-03, 9.3164e-11, 6.9272e-24, 5.0827e-13,\n",
       "                      1.3971e-42, 2.7990e-24, 3.2547e-03, 1.6211e-26,\n",
       "                      1.1635e-10, 6.1398e-37, 2.1071e-11, 1.4826e-34,\n",
       "                      1.6340e-03, 3.2843e-03, 5.6432e-27, 8.4110e-34,\n",
       "                      7.1038e-13, 4.2285e-25, 3.6787e-17, 5.3736e-13,\n",
       "                      1.3057e-03, 1.1183e-34, 2.2163e-06, 2.4286e-08,\n",
       "                      2.1956e-15, 3.2390e-32, 3.1682e-03, 3.6664e-21,\n",
       "                      3.1861e-03, 1.7995e-36, 4.7079e-10, 1.9658e-03,\n",
       "                      2.5945e-03, 5.3088e-37, 4.1784e-15, 1.4013e-45,\n",
       "                      3.7835e-44, 2.3191e-42, 3.3077e-03, 2.6015e-14,\n",
       "                      3.2905e-03, 3.0431e-03, 3.0715e-03, 2.7878e-23,\n",
       "                      3.4069e-19, 3.1174e-03, 1.4499e-03, 3.0726e-03,\n",
       "                      3.4108e-03, 3.4277e-03, 2.7606e-42, 2.3211e-03,\n",
       "                      3.8652e-31, 5.7003e-26, 2.4192e-32, 8.3444e-22,\n",
       "                      3.6305e-09, 1.9309e-24, 3.4856e-03, 3.3475e-03,\n",
       "                      2.2351e-03, 2.7718e-08, 3.3041e-03, 2.9540e-03,\n",
       "                      3.3416e-03, 6.7009e-05, 3.3426e-03, 3.3503e-03,\n",
       "                      1.5590e-03, 1.3108e-03, 5.9998e-40, 1.2074e-03,\n",
       "                      2.0620e-08, 3.0150e-03, 2.1806e-32, 1.8350e-03,\n",
       "                      5.6052e-45, 2.7388e-03, 1.8806e-22, 7.8669e-12,\n",
       "                      2.9495e-03, 2.6226e-40, 2.3656e-03, 5.0928e-10,\n",
       "                      3.3834e-03, 1.4444e-07, 3.4007e-03, 3.4582e-20,\n",
       "                      3.0547e-04, 2.4789e-42, 3.0524e-03, 1.9595e-03,\n",
       "                      2.0056e-15, 2.4543e-03, 3.1713e-03, 1.5741e-29,\n",
       "                      3.3766e-03, 1.8272e-16, 3.7835e-44, 4.8191e-42,\n",
       "                      1.0218e-22, 2.2541e-03, 3.3534e-03, 3.1033e-04,\n",
       "                      1.5849e-42, 7.3702e-31, 1.1783e-12, 9.3764e-04,\n",
       "                      2.3872e-25, 3.2835e-03, 3.1904e-30, 1.4131e-03,\n",
       "                      3.4266e-03, 1.1344e-04, 1.2022e-03, 3.1584e-03,\n",
       "                      7.3053e-09, 1.7082e-06, 3.1330e-03, 2.8675e-03,\n",
       "                      3.0904e-03, 2.3218e-04, 3.0068e-03, 3.0856e-03,\n",
       "                      7.8347e-13, 1.4137e-03, 5.3777e-05, 3.1172e-39,\n",
       "                      7.8263e-08]),\n",
       "       size=(100, 300), nnz=817, layout=torch.sparse_coo)"
      ]
     },
     "execution_count": 83,
     "metadata": {},
     "output_type": "execute_result"
    }
   ],
   "source": [
    "nnz, pi = uot_mm_org(cost, init_pi, tuple_ab, params, n_iters=20000, tol=1e-8, eval_freq=1)\n",
    "pi.to_sparse()"
   ]
  },
  {
   "cell_type": "code",
   "execution_count": 84,
   "id": "1a95190d",
   "metadata": {},
   "outputs": [
    {
     "data": {
      "text/plain": [
       "[<matplotlib.lines.Line2D at 0x7f6e34755700>]"
      ]
     },
     "execution_count": 84,
     "metadata": {},
     "output_type": "execute_result"
    },
    {
     "data": {
      "image/png": "[encoded data removed]",
      "text/plain": [
       "<Figure size 432x288 with 1 Axes>"
      ]
     },
     "metadata": {
      "needs_background": "light"
     },
     "output_type": "display_data"
    }
   ],
   "source": [
    "plt.plot(nnz)"
   ]
  },
  {
   "cell_type": "code",
   "execution_count": 102,
   "id": "16adbb61",
   "metadata": {},
   "outputs": [
    {
     "data": {
      "text/plain": [
       "<matplotlib.image.AxesImage at 0x7f6e344d5550>"
      ]
     },
     "execution_count": 102,
     "metadata": {},
     "output_type": "execute_result"
    },
    {
     "data": {
      "image/png": "[encoded data removed]",
      "text/plain": [
       "<Figure size 432x288 with 1 Axes>"
      ]
     },
     "metadata": {
      "needs_background": "light"
     },
     "output_type": "display_data"
    }
   ],
   "source": [
    "plt.imshow(pi.to_dense().cpu().numpy())"
   ]
  },
  {
   "cell_type": "code",
   "execution_count": 77,
   "id": "230706e5",
   "metadata": {},
   "outputs": [
    {
     "name": "stderr",
     "output_type": "stream",
     "text": [
      "100%|███████████████████████████████████| 10000/10000 [00:02<00:00, 4138.67it/s]\n"
     ]
    }
   ],
   "source": [
    "pi = uot_kl(a, b, cost, params, niter=20000, tol=1e-8)"
   ]
  },
  {
   "cell_type": "code",
   "execution_count": 78,
   "id": "2893e829",
   "metadata": {},
   "outputs": [
    {
     "data": {
      "text/plain": [
       "tensor(indices=tensor([[  0,   0,   0,  ...,  99,  99,  99],\n",
       "                       [104, 111, 114,  ..., 222, 278, 284]]),\n",
       "       values=tensor([2.3992e-20, 3.4102e-03, 3.3604e-03,  ...,\n",
       "                      1.2359e-04, 3.3038e-21, 1.0956e-06]),\n",
       "       size=(100, 300), nnz=1204, layout=torch.sparse_coo)"
      ]
     },
     "execution_count": 78,
     "metadata": {},
     "output_type": "execute_result"
    }
   ],
   "source": [
    "pi.to_sparse()"
   ]
  },
  {
   "cell_type": "code",
   "execution_count": 8,
   "id": "32bca3f5",
   "metadata": {
    "collapsed": true
   },
   "outputs": [
    {
     "ename": "NameError",
     "evalue": "name 'reg' is not defined",
     "output_type": "error",
     "traceback": [
      "\u001b[0;31m---------------------------------------------------------------------------\u001b[0m",
      "\u001b[0;31mNameError\u001b[0m                                 Traceback (most recent call last)",
      "\u001b[0;32m/tmp/ipykernel_11267/1727960901.py\u001b[0m in \u001b[0;36m<module>\u001b[0;34m\u001b[0m\n\u001b[0;32m----> 1\u001b[0;31m \u001b[0mpi\u001b[0m \u001b[0;34m=\u001b[0m \u001b[0muot\u001b[0m\u001b[0;34m(\u001b[0m\u001b[0ma\u001b[0m\u001b[0;34m,\u001b[0m \u001b[0mb\u001b[0m\u001b[0;34m,\u001b[0m \u001b[0mcost\u001b[0m\u001b[0;34m,\u001b[0m \u001b[0mreg\u001b[0m\u001b[0;34m,\u001b[0m \u001b[0mniter\u001b[0m\u001b[0;34m,\u001b[0m \u001b[0mtol\u001b[0m\u001b[0;34m)\u001b[0m\u001b[0;34m\u001b[0m\u001b[0;34m\u001b[0m\u001b[0m\n\u001b[0m",
      "\u001b[0;31mNameError\u001b[0m: name 'reg' is not defined"
     ]
    }
   ],
   "source": [
    "tuple_lamb = (1,1,0)\n",
    "\n",
    "pi = uot(a, b, cost, reg, niter, tol)"
   ]
  },
  {
   "cell_type": "code",
   "execution_count": 9,
   "id": "5eaa1385",
   "metadata": {
    "collapsed": true
   },
   "outputs": [
    {
     "name": "stderr",
     "output_type": "stream",
     "text": [
      "  0%|                                                  | 0/2000 [00:00<?, ?it/s]\n"
     ]
    },
    {
     "ename": "RuntimeError",
     "evalue": "_sparse_sum: sparse tensor input._nnz() == 0, please call torch.sparse.sum(input) instead.",
     "output_type": "error",
     "traceback": [
      "\u001b[0;31m---------------------------------------------------------------------------\u001b[0m",
      "\u001b[0;31mRuntimeError\u001b[0m                              Traceback (most recent call last)",
      "\u001b[0;32m/tmp/ipykernel_11267/2902295865.py\u001b[0m in \u001b[0;36m<module>\u001b[0;34m\u001b[0m\n\u001b[1;32m      1\u001b[0m \u001b[0mreg\u001b[0m \u001b[0;34m=\u001b[0m \u001b[0;36m0\u001b[0m\u001b[0;34m\u001b[0m\u001b[0;34m\u001b[0m\u001b[0m\n\u001b[0;32m----> 2\u001b[0;31m \u001b[0mpi_s\u001b[0m \u001b[0;34m=\u001b[0m \u001b[0muot_sparse\u001b[0m\u001b[0;34m(\u001b[0m\u001b[0ma\u001b[0m\u001b[0;34m,\u001b[0m \u001b[0mb\u001b[0m\u001b[0;34m,\u001b[0m \u001b[0mcost\u001b[0m\u001b[0;34m,\u001b[0m \u001b[0mreg\u001b[0m\u001b[0;34m,\u001b[0m \u001b[0mniter\u001b[0m\u001b[0;34m,\u001b[0m \u001b[0mtol\u001b[0m\u001b[0;34m)\u001b[0m\u001b[0;34m\u001b[0m\u001b[0;34m\u001b[0m\u001b[0m\n\u001b[0m",
      "\u001b[0;32m/tmp/ipykernel_11267/75643139.py\u001b[0m in \u001b[0;36muot_sparse\u001b[0;34m(a, b, cost, reg, niter, tol)\u001b[0m\n\u001b[1;32m     43\u001b[0m         \u001b[0mpi_sparse\u001b[0m \u001b[0;34m=\u001b[0m \u001b[0mtorch\u001b[0m\u001b[0;34m.\u001b[0m\u001b[0msparse_coo_tensor\u001b[0m\u001b[0;34m(\u001b[0m\u001b[0midx\u001b[0m\u001b[0;34m,\u001b[0m \u001b[0mpi\u001b[0m\u001b[0;34m,\u001b[0m \u001b[0mdim\u001b[0m\u001b[0;34m)\u001b[0m\u001b[0;34m\u001b[0m\u001b[0;34m\u001b[0m\u001b[0m\n\u001b[1;32m     44\u001b[0m \u001b[0;34m\u001b[0m\u001b[0m\n\u001b[0;32m---> 45\u001b[0;31m         \u001b[0mm1\u001b[0m \u001b[0;34m=\u001b[0m \u001b[0mtorch\u001b[0m\u001b[0;34m.\u001b[0m\u001b[0msparse\u001b[0m\u001b[0;34m.\u001b[0m\u001b[0msum\u001b[0m\u001b[0;34m(\u001b[0m\u001b[0mpi_sparse\u001b[0m\u001b[0;34m,\u001b[0m \u001b[0;36m1\u001b[0m\u001b[0;34m)\u001b[0m\u001b[0;34m.\u001b[0m\u001b[0mto_dense\u001b[0m\u001b[0;34m(\u001b[0m\u001b[0;34m)\u001b[0m\u001b[0;34m\u001b[0m\u001b[0;34m\u001b[0m\u001b[0m\n\u001b[0m\u001b[1;32m     46\u001b[0m         \u001b[0mm2\u001b[0m \u001b[0;34m=\u001b[0m \u001b[0mtorch\u001b[0m\u001b[0;34m.\u001b[0m\u001b[0msparse\u001b[0m\u001b[0;34m.\u001b[0m\u001b[0msum\u001b[0m\u001b[0;34m(\u001b[0m\u001b[0mpi_sparse\u001b[0m\u001b[0;34m,\u001b[0m \u001b[0;36m0\u001b[0m\u001b[0;34m)\u001b[0m\u001b[0;34m.\u001b[0m\u001b[0mto_dense\u001b[0m\u001b[0;34m(\u001b[0m\u001b[0;34m)\u001b[0m\u001b[0;34m\u001b[0m\u001b[0;34m\u001b[0m\u001b[0m\n\u001b[1;32m     47\u001b[0m \u001b[0;34m\u001b[0m\u001b[0m\n",
      "\u001b[0;32m~/anaconda3/lib/python3.9/site-packages/torch/sparse/__init__.py\u001b[0m in \u001b[0;36msum\u001b[0;34m(input, dim, dtype)\u001b[0m\n\u001b[1;32m    150\u001b[0m     \u001b[0;32mif\u001b[0m \u001b[0mdtype\u001b[0m \u001b[0;32mis\u001b[0m \u001b[0;32mNone\u001b[0m\u001b[0;34m:\u001b[0m\u001b[0;34m\u001b[0m\u001b[0;34m\u001b[0m\u001b[0m\n\u001b[1;32m    151\u001b[0m         \u001b[0;32mif\u001b[0m \u001b[0mdim\u001b[0m \u001b[0;32mis\u001b[0m \u001b[0;32mnot\u001b[0m \u001b[0;32mNone\u001b[0m\u001b[0;34m:\u001b[0m\u001b[0;34m\u001b[0m\u001b[0;34m\u001b[0m\u001b[0m\n\u001b[0;32m--> 152\u001b[0;31m             \u001b[0;32mreturn\u001b[0m \u001b[0mtorch\u001b[0m\u001b[0;34m.\u001b[0m\u001b[0m_sparse_sum\u001b[0m\u001b[0;34m(\u001b[0m\u001b[0minput\u001b[0m\u001b[0;34m,\u001b[0m \u001b[0mdim\u001b[0m\u001b[0;34m)\u001b[0m\u001b[0;34m\u001b[0m\u001b[0;34m\u001b[0m\u001b[0m\n\u001b[0m\u001b[1;32m    153\u001b[0m         \u001b[0;32melse\u001b[0m\u001b[0;34m:\u001b[0m\u001b[0;34m\u001b[0m\u001b[0;34m\u001b[0m\u001b[0m\n\u001b[1;32m    154\u001b[0m             \u001b[0;32mreturn\u001b[0m \u001b[0mtorch\u001b[0m\u001b[0;34m.\u001b[0m\u001b[0m_sparse_sum\u001b[0m\u001b[0;34m(\u001b[0m\u001b[0minput\u001b[0m\u001b[0;34m)\u001b[0m\u001b[0;34m\u001b[0m\u001b[0;34m\u001b[0m\u001b[0m\n",
      "\u001b[0;31mRuntimeError\u001b[0m: _sparse_sum: sparse tensor input._nnz() == 0, please call torch.sparse.sum(input) instead."
     ]
    }
   ],
   "source": [
    "reg = 0\n",
    "pi_s = uot_sparse(a, b, cost, reg, niter, tol)"
   ]
  },
  {
   "cell_type": "code",
   "execution_count": 7,
   "id": "b3bc4205",
   "metadata": {},
   "outputs": [
    {
     "data": {
      "text/plain": [
       "tensor(indices=tensor([[   0,    0,    0,  ..., 9999, 9999, 9999],\n",
       "                       [1310, 1434, 1832,  ..., 1219, 1501, 2269]]),\n",
       "       values=tensor([7.6594e-40, 4.6383e-08, 1.6030e-36,  ...,\n",
       "                      9.2069e-28, 1.1531e-15, 1.4697e-06]),\n",
       "       size=(10000, 3000), nnz=41611, layout=torch.sparse_coo)"
      ]
     },
     "execution_count": 7,
     "metadata": {},
     "output_type": "execute_result"
    }
   ],
   "source": [
    "pi_s"
   ]
  },
  {
   "cell_type": "code",
   "execution_count": 8,
   "id": "85fd02cf",
   "metadata": {},
   "outputs": [
    {
     "data": {
      "text/plain": [
       "tensor(indices=tensor([[   0,    0,    0,  ..., 9999, 9999, 9999],\n",
       "                       [1310, 1434, 1832,  ..., 1219, 1501, 2269]]),\n",
       "       values=tensor([7.6594e-40, 4.6383e-08, 1.6030e-36,  ...,\n",
       "                      9.2069e-28, 1.1531e-15, 1.4697e-06]),\n",
       "       size=(10000, 3000), nnz=41611, layout=torch.sparse_coo)"
      ]
     },
     "execution_count": 8,
     "metadata": {},
     "output_type": "execute_result"
    }
   ],
   "source": [
    "pi_s.to_dense().to_sparse()"
   ]
  },
  {
   "cell_type": "code",
   "execution_count": 9,
   "id": "e1cf86e6",
   "metadata": {},
   "outputs": [
    {
     "data": {
      "text/plain": [
       "tensor(0.5909)"
      ]
     },
     "execution_count": 9,
     "metadata": {},
     "output_type": "execute_result"
    }
   ],
   "source": [
    "torch.sparse.sum(pi_s)"
   ]
  },
  {
   "cell_type": "code",
   "execution_count": null,
   "id": "4af9c037",
   "metadata": {
    "scrolled": true
   },
   "outputs": [],
   "source": []
  },
  {
   "cell_type": "code",
   "execution_count": 10,
   "id": "2cfb7a27",
   "metadata": {},
   "outputs": [
    {
     "data": {
      "text/plain": [
       "tensor(0.5909)"
      ]
     },
     "execution_count": 10,
     "metadata": {},
     "output_type": "execute_result"
    }
   ],
   "source": [
    "pi.sum()"
   ]
  },
  {
   "cell_type": "code",
   "execution_count": null,
   "id": "af6a4dd8",
   "metadata": {},
   "outputs": [],
   "source": [
    "m = torch.Tensor([[1,2],[-1,-2]])"
   ]
  },
  {
   "cell_type": "code",
   "execution_count": null,
   "id": "2799b5b9",
   "metadata": {},
   "outputs": [],
   "source": [
    "m_cmtorch.clamp(m, min=0)"
   ]
  },
  {
   "cell_type": "code",
   "execution_count": 21,
   "id": "ea9652ce",
   "metadata": {},
   "outputs": [
    {
     "data": {
      "text/plain": [
       "tensor([[ 1.4852,  0.2454, -0.8740, -0.7068,  0.8111],\n",
       "        [ 1.2167, -0.6720,  2.0028, -0.4022,  0.2092]])"
      ]
     },
     "execution_count": 21,
     "metadata": {},
     "output_type": "execute_result"
    }
   ],
   "source": [
    "a = torch.randn(2, 5)\n",
    "a"
   ]
  },
  {
   "cell_type": "code",
   "execution_count": 22,
   "id": "a6c101c9",
   "metadata": {},
   "outputs": [],
   "source": [
    "aa = torch.clamp(a, min=0)"
   ]
  },
  {
   "cell_type": "code",
   "execution_count": 23,
   "id": "11d0cc3e",
   "metadata": {},
   "outputs": [],
   "source": [
    "a_sparse = aa.to_sparse()"
   ]
  },
  {
   "cell_type": "code",
   "execution_count": 24,
   "id": "276b9399",
   "metadata": {},
   "outputs": [
    {
     "data": {
      "text/plain": [
       "tensor(indices=tensor([[0, 0, 0, 1, 1, 1],\n",
       "                       [0, 1, 4, 0, 2, 4]]),\n",
       "       values=tensor([1.4852, 0.2454, 0.8111, 1.2167, 2.0028, 0.2092]),\n",
       "       size=(2, 5), nnz=6, layout=torch.sparse_coo)"
      ]
     },
     "execution_count": 24,
     "metadata": {},
     "output_type": "execute_result"
    }
   ],
   "source": [
    "a_sparse"
   ]
  },
  {
   "cell_type": "code",
   "execution_count": 25,
   "id": "fc0f6aa6",
   "metadata": {},
   "outputs": [],
   "source": [
    "val = a_sparse.values()\n",
    "idx = a_sparse._indices()\n",
    "dim = a_sparse.size()"
   ]
  },
  {
   "cell_type": "code",
   "execution_count": 26,
   "id": "08ff1d38",
   "metadata": {},
   "outputs": [
    {
     "data": {
      "text/plain": [
       "tensor([1.4852, 0.2454, 0.8111, 1.2167, 2.0028, 0.2092])"
      ]
     },
     "execution_count": 26,
     "metadata": {},
     "output_type": "execute_result"
    }
   ],
   "source": [
    "a[idx[0], idx[1]]"
   ]
  },
  {
   "cell_type": "code",
   "execution_count": 30,
   "id": "68cf5653",
   "metadata": {},
   "outputs": [
    {
     "data": {
      "text/plain": [
       "tensor([1.4852, 0.2454, 0.8111, 1.2167, 2.0028, 0.2092])"
      ]
     },
     "execution_count": 30,
     "metadata": {},
     "output_type": "execute_result"
    }
   ],
   "source": [
    "a_sparse._values()"
   ]
  },
  {
   "cell_type": "code",
   "execution_count": null,
   "id": "59f08316",
   "metadata": {},
   "outputs": [],
   "source": [
    "torch.sparse_coo_tensor(idx, val, dim)"
   ]
  },
  {
   "cell_type": "code",
   "execution_count": null,
   "id": "b6b1106b",
   "metadata": {
    "scrolled": true
   },
   "outputs": [],
   "source": [
    "m1 = torch.sparse.sum(a_sparse, 1).to_dense()"
   ]
  },
  {
   "cell_type": "code",
   "execution_count": null,
   "id": "45ce6171",
   "metadata": {},
   "outputs": [],
   "source": [
    "m1[[0,0,1]]"
   ]
  },
  {
   "cell_type": "code",
   "execution_count": null,
   "id": "667ea176",
   "metadata": {},
   "outputs": [],
   "source": [
    "i = [[0, 1, 1],\n",
    "         [2, 0, 2]]\n",
    "v =  [3, 0, 5]\n",
    "s = torch.sparse_coo_tensor(i, v, (2, 3))\n",
    "s"
   ]
  },
  {
   "cell_type": "code",
   "execution_count": null,
   "id": "fe0c1b7a",
   "metadata": {},
   "outputs": [],
   "source": [
    "s.to_dense().to_sparse()"
   ]
  }
 ],
 "metadata": {
  "kernelspec": {
   "display_name": "Python 3 (ipykernel)",
   "language": "python",
   "name": "python3"
  },
  "language_info": {
   "codemirror_mode": {
    "name": "ipython",
    "version": 3
   },
   "file_extension": ".py",
   "mimetype": "text/x-python",
   "name": "python",
   "nbconvert_exporter": "python",
   "pygments_lexer": "ipython3",
   "version": "3.9.7"
  }
 },
 "nbformat": 4,
 "nbformat_minor": 5
}
