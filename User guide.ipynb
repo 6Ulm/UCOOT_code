{
 "cells": [
  {
   "cell_type": "code",
   "execution_count": 1,
   "id": "f317daab",
   "metadata": {},
   "outputs": [
    {
     "name": "stdout",
     "output_type": "stream",
     "text": [
      "Torch version: 1.10.1\n",
      "CUDA available: False\n",
      "CUDA version: 10.2\n",
      "CUDNN version: 7605\n"
     ]
    }
   ],
   "source": [
    "import torch\n",
    "print('Torch version: {}'.format(torch.__version__))\n",
    "print('CUDA available: {}'.format(torch.cuda.is_available()))\n",
    "print('CUDA version: {}'.format(torch.version.cuda))\n",
    "print('CUDNN version: {}'.format(torch.backends.cudnn.version()))\n",
    "\n",
    "use_cuda = torch.cuda.is_available()\n",
    "device = torch.device(\"cuda:0\" if use_cuda else \"cpu\")\n",
    "torch.backends.cudnn.benchmark=True\n",
    "\n",
    "from src.megawass import MegaWass"
   ]
  },
  {
   "cell_type": "markdown",
   "id": "5b123486",
   "metadata": {},
   "source": [
    "# Preparing toy data"
   ]
  },
  {
   "cell_type": "code",
   "execution_count": 2,
   "id": "9fa035d3",
   "metadata": {},
   "outputs": [],
   "source": [
    "# generate simulated data\n",
    "nx = 100\n",
    "dx = 30\n",
    "ny = 200\n",
    "dy = 20\n",
    "\n",
    "x = torch.rand(nx, dx).to(device)\n",
    "y = torch.rand(ny, dy).to(device)\n",
    "Cx = torch.cdist(x, x, p=2)**2\n",
    "Cy = torch.cdist(y, y, p=2)**2\n",
    "\n",
    "D_samp = torch.rand(nx, ny).to(device)\n",
    "D_feat = torch.rand(dx, dy).to(device)"
   ]
  },
  {
   "cell_type": "markdown",
   "id": "f66b1c40",
   "metadata": {},
   "source": [
    "# UCOOT"
   ]
  },
  {
   "cell_type": "markdown",
   "id": "7e519d3c",
   "metadata": {},
   "source": [
    "Given $2$ matrices of arbitrary size: $X_1 \\in \\mathbb R^{n_1 \\times d_1}$ and $X_2 \\in \\mathbb R^{n_2 \\times d_2}$, and $4$ corresponding histograms assigned to their rows and columns $\\mu_{n_1}, \\mu_{d_1}, \\mu_{n_2}$ and $\\mu_{d_2}$, the method $\\texttt{solver_fucoot}$ solves\n",
    "\\begin{equation*}\n",
    "    \\begin{split}\n",
    "        \\text{FUCOOT}_{\\rho, \\lambda, \\varepsilon}(X_1, X_2) \n",
    "        &= \\inf_{\\substack{P_s \\in \\mathbb R^{n_1 \\times n_2}_{\\geq 0} \\\\ P_f \\in \\mathbb R^{d_1 \\times d_2}_{\\geq 0}}} \\text{func}(P_s, P_f) \n",
    "    \\end{split}\n",
    "\\end{equation*}\n",
    "where the function\n",
    "\\begin{equation*}\n",
    "    \\begin{split}\n",
    "        \\text{func}(P_s, P_f) \n",
    "        &= \\langle | X_1 - X_2 |^2, P_s \\otimes P_f \\rangle \n",
    "        + \\alpha_s \\langle D_s, P_s \\rangle + \\alpha_f \\langle D_f, P_f \\rangle \\\\\n",
    "        &+ \\rho_1 \\text{KL}(\\text{some function of $P_s$ and $P_f$} \\vert \\mu_{n_1} \\otimes \\mu_{d_1}) \n",
    "        + \\rho_2 \\text{KL}(\\text{some function of $P_s$ and $P_f$} \\vert \\mu_{n_2} \\otimes \\mu_{d_2})  \\\\\n",
    "        &+ \\varepsilon_s \\text{KL}(P_s | \\mu_{n_1} \\otimes \\mu_{n_2}) + \n",
    "        \\varepsilon_f \\text{KL}(P_f | \\mu_{d_1} \\otimes \\mu_{d_2}).\n",
    "    \\end{split}\n",
    "\\end{equation*}\n",
    "Here, the subscripts \"s\" and \"f\" mean sample and feature.\n",
    "\n",
    "Some notes on the input arguments:\n",
    "\n",
    "- By default, all histograms are uniform distributions, so just leave it as None if you don't want something else.\n",
    "\n",
    "- The input matrices $D_s \\in \\mathbb R^{n_1 \\times n_2}$ and $D_f \\in \\mathbb R^{d_1 \\times d_2}$ present prior knowledge (if available) on the sample and feature couplings, respectively. If they are not available, then just leave it as None.\n",
    "\n",
    "- The marginal relaxation parameters $\\rho_1$ and $\\rho_2$ can take any nonnegative values. It is also possible to use infinity value (by setting, e.g. $\\rho_1 = \\rho_2 = \\texttt{float(\"inf\")})$. In that case, you are doing (balanced) COOT and your epsilon **must** be **strictly positive**.\n",
    "\n",
    "- The regularisation parameters $\\varepsilon_s$ and $\\varepsilon_f$ can be **any** nonnegative values, **even zero**. **Important note**: if at least one of them is zero, then $\\rho_1$ and $\\rho_2$ must **not** contain infinity values. (because we use another algorithm to solve the case zero epsilon and it won't work with infinity value).\n",
    "\n",
    "- In case that you use zero epsilon, it may be desirable to increase argument $\\texttt{nits_uot}$ because the algorithm may converge not fast enough.\n",
    "\n",
    "- It is possible to trigger the early stopping if you see that the current and previous costs do not much differ. To do this, set your threshold via the argument $\\texttt{early_stopping_tol}$.\n",
    "\n",
    "- It is recommended that you set $\\texttt{verbose = True}$, so that you can see the evolution of costs. \n",
    "It is also possible to save the training cost by setting $\\texttt{log = True}$."
   ]
  },
  {
   "cell_type": "markdown",
   "id": "302a65c3",
   "metadata": {},
   "source": [
    "### Basic usage"
   ]
  },
  {
   "cell_type": "code",
   "execution_count": 3,
   "id": "ca0f0de4",
   "metadata": {
    "scrolled": true
   },
   "outputs": [
    {
     "name": "stdout",
     "output_type": "stream",
     "text": [
      "Cost at iteration 1: 0.11049536615610123\n",
      "Cost at iteration 2: 0.1103777140378952\n",
      "Cost at iteration 3: 0.110260508954525\n",
      "Cost at iteration 4: 0.11012265086174011\n",
      "Cost at iteration 5: 0.10992490500211716\n",
      "Cost at iteration 6: 0.10953307151794434\n",
      "Cost at iteration 7: 0.10852140188217163\n",
      "Cost at iteration 8: 0.10715685784816742\n",
      "Cost at iteration 9: 0.10599719732999802\n",
      "Cost at iteration 10: 0.10484065115451813\n",
      "Cost at iteration 11: 0.10354764759540558\n",
      "Cost at iteration 12: 0.10196802765130997\n",
      "Cost at iteration 13: 0.10028758645057678\n",
      "Cost at iteration 14: 0.09893098473548889\n",
      "Cost at iteration 15: 0.0973796397447586\n",
      "Cost at iteration 16: 0.09529273957014084\n",
      "Cost at iteration 17: 0.09278176724910736\n",
      "Cost at iteration 18: 0.09028378129005432\n",
      "Cost at iteration 19: 0.08852900564670563\n",
      "Cost at iteration 20: 0.08738391101360321\n"
     ]
    }
   ],
   "source": [
    "rho = (1e-1, 1e-1) # use (float(\"inf\"), float(\"inf\")) if use COOT\n",
    "eps = (1e-2, 0)\n",
    "\n",
    "megawass = MegaWass(nits_bcd=20, nits_uot=1000, tol_bcd=1e-6, tol_uot=1e-6, eval_bcd=1, eval_uot=20)\n",
    "(pi_samp, pi_feat), _, log_cost, log_ent_cost = megawass.solver_fucoot(\n",
    "        X=x,\n",
    "        Y=y,\n",
    "        rho=rho,\n",
    "        eps=eps,\n",
    "        log=True,\n",
    "        verbose=True,\n",
    "        early_stopping_tol=1e-6\n",
    "    )"
   ]
  },
  {
   "cell_type": "markdown",
   "id": "01fb9095",
   "metadata": {},
   "source": [
    "### A bit more complicated "
   ]
  },
  {
   "cell_type": "code",
   "execution_count": 4,
   "id": "2f4234a7",
   "metadata": {},
   "outputs": [
    {
     "name": "stdout",
     "output_type": "stream",
     "text": [
      "Cost at iteration 1: 0.149433434009552\n",
      "Cost at iteration 2: 0.1471438705921173\n",
      "Cost at iteration 3: 0.14715427160263062\n",
      "Cost at iteration 4: 0.14716514945030212\n"
     ]
    }
   ],
   "source": [
    "rho = (1e-1, 1e-1) # use (float(\"inf\"), float(\"inf\")) if use COOT\n",
    "eps = (1e-2, 0)\n",
    "alpha = (1, 1) # optional, only care if D_s and / or D_f is available\n",
    "D = (D_samp, D_feat) # optional, only care if D_s and / or D_f is available\n",
    "\n",
    "megawass = MegaWass(nits_bcd=20, nits_uot=1000, tol_bcd=1e-6, tol_uot=1e-6, eval_bcd=1, eval_uot=20)\n",
    "(pi_samp, pi_feat), _, log_cost, log_ent_cost = megawass.solver_fucoot(\n",
    "        X=x,\n",
    "        Y=y,\n",
    "        rho=rho,\n",
    "        eps=eps,\n",
    "        alpha=alpha,\n",
    "        D=D,\n",
    "        log=True,\n",
    "        verbose=True,\n",
    "        early_stopping_tol=1e-6\n",
    "    )"
   ]
  },
  {
   "cell_type": "markdown",
   "id": "db40b582",
   "metadata": {},
   "source": [
    "# UGW"
   ]
  },
  {
   "cell_type": "markdown",
   "id": "4000c5bf",
   "metadata": {},
   "source": [
    "Given $2$ square matrices of arbitrary size: $X_1 \\in \\mathbb R^{n_1 \\times n_1}$ and $X_2 \\in \\mathbb R^{n_2 \\times n_2}$, and $2$ corresponding histograms $\\mu_{n_1}$ and $\\mu_{n_2}$, the method $\\texttt{solver_fugw_simple}$ solves\n",
    "\\begin{equation*}\n",
    "    \\begin{split}\n",
    "        \\text{FUGW}_{\\rho, \\lambda, \\varepsilon}(X_1, X_2) \n",
    "        &= \\inf_{P \\in \\mathbb R^{n_1 \\times n_2}_{\\geq 0}} \\text{func}(P) \n",
    "    \\end{split}\n",
    "\\end{equation*}\n",
    "where the function\n",
    "\\begin{equation*}\n",
    "    \\begin{split}\n",
    "        \\text{func}(P) \n",
    "        &= \\langle | X_1 - X_2 |^2, P \\otimes P \\rangle \n",
    "        + 2\\alpha \\; \\langle D, P \\rangle \\\\\n",
    "        &+ \\rho_1 \\text{KL}(\\text{some function of $P$} \\vert \\mu_{n_1} \\otimes \\mu_{n_1}) \n",
    "        + \\rho_2 \\text{KL}(\\text{some function of $P$} \\vert \\mu_{n_2} \\otimes \\mu_{n_2})  \\\\\n",
    "        &+ 2 \\varepsilon \\; \\text{KL}(P | \\mu_{n_1} \\otimes \\mu_{n_2}).\n",
    "    \\end{split}\n",
    "\\end{equation*}\n",
    "\n",
    "Some notes on the input arguments: almost the same as above.\n",
    "\n",
    "- By default, all histograms are uniform distributions, so just leave it as None if you don't want something else.\n",
    "\n",
    "- The input matrice $D \\in \\mathbb R^{n_1 \\times n_2}$ presents prior knowledge (if available) on the sample couplings. If it is not available, then just leave it as None.\n",
    "\n",
    "- The marginal relaxation parameters $\\rho_1$ and $\\rho_2$ can take any nonnegative values. It is also possible to use infinity value (by setting, e.g. $\\rho_1 = \\rho_2 = \\texttt{float(\"inf\")})$. In that case, you are doing (balanced) GW and your epsilon **must** be **strictly positive**.\n",
    "\n",
    "- The regularisation parameter $\\varepsilon$ can be **any** nonnegative values, **even zero**. **Important note**: if it is zero, then $\\rho_1$ and $\\rho_2$ must **not** contain infinity values. (because we use another algorithm to solve the case zero epsilon and it won't work with infinity value).\n",
    "\n",
    "- In case that you use zero epsilon, it may be desirable to increase argument $\\texttt{nits_uot}$ because the algorithm may converge not fast enough.\n",
    "\n",
    "- It is possible to trigger the early stopping if you see that the current and previous costs do not much differ. To do this, set your threshold via the argument $\\texttt{early_stopping_tol}$.\n",
    "\n",
    "- It is recommended that you set $\\texttt{verbose = True}$, so that you can see the evolution of costs. \n",
    "It is also possible to save the training cost by setting $\\texttt{log = True}$."
   ]
  },
  {
   "cell_type": "markdown",
   "id": "df264f03",
   "metadata": {},
   "source": [
    "### Basic usage"
   ]
  },
  {
   "cell_type": "code",
   "execution_count": 5,
   "id": "02e1839a",
   "metadata": {},
   "outputs": [
    {
     "name": "stdout",
     "output_type": "stream",
     "text": [
      "Cost at iteration 1: 0.1998400092124939\n",
      "Cost at iteration 2: 0.19886314868927002\n",
      "Cost at iteration 3: 0.19852057099342346\n",
      "Cost at iteration 4: 0.19836637377738953\n",
      "Cost at iteration 5: 0.19827359914779663\n",
      "Cost at iteration 6: 0.19818103313446045\n",
      "Cost at iteration 7: 0.1981189250946045\n",
      "Cost at iteration 8: 0.198068767786026\n",
      "Cost at iteration 9: 0.19804254174232483\n",
      "Cost at iteration 10: 0.19803324341773987\n",
      "Cost at iteration 11: 0.19802765548229218\n",
      "Cost at iteration 12: 0.19801917672157288\n",
      "Cost at iteration 13: 0.1979912370443344\n",
      "Cost at iteration 14: 0.19797450304031372\n",
      "Cost at iteration 15: 0.19795718789100647\n",
      "Cost at iteration 16: 0.19795098900794983\n",
      "Cost at iteration 17: 0.1979484260082245\n",
      "Cost at iteration 18: 0.1979471892118454\n",
      "Cost at iteration 19: 0.19794538617134094\n",
      "Cost at iteration 20: 0.19794116914272308\n"
     ]
    }
   ],
   "source": [
    "rho = (1e-1, 1e-1) # use (float(\"inf\"), float(\"inf\")) if use COOT\n",
    "eps = 0\n",
    "\n",
    "megawass = MegaWass(nits_bcd=20, nits_uot=1000, tol_bcd=1e-6, tol_uot=1e-6, eval_bcd=1, eval_uot=20)\n",
    "(pi_samp, pi_feat), _, log_cost, log_ent_cost = megawass.solver_fugw_simple(\n",
    "        X=Cx,\n",
    "        Y=Cy,\n",
    "        rho=rho,\n",
    "        eps=eps,\n",
    "        log=True,\n",
    "        verbose=True,\n",
    "        early_stopping_tol=1e-6\n",
    "    )"
   ]
  },
  {
   "cell_type": "markdown",
   "id": "77eba435",
   "metadata": {},
   "source": [
    "### A bit more complicated"
   ]
  },
  {
   "cell_type": "code",
   "execution_count": 6,
   "id": "6951f22a",
   "metadata": {},
   "outputs": [
    {
     "name": "stdout",
     "output_type": "stream",
     "text": [
      "Cost at iteration 1: 0.20035411417484283\n",
      "Cost at iteration 2: 0.19998568296432495\n",
      "Cost at iteration 3: 0.19994251430034637\n",
      "Cost at iteration 4: 0.19991283118724823\n",
      "Cost at iteration 5: 0.1998777836561203\n",
      "Cost at iteration 6: 0.19985756278038025\n",
      "Cost at iteration 7: 0.19984951615333557\n",
      "Cost at iteration 8: 0.1998465210199356\n"
     ]
    }
   ],
   "source": [
    "rho = (1e-1, 1e-1) # use (float(\"inf\"), float(\"inf\")) if use COOT\n",
    "eps = 1e-2\n",
    "alpha = 1 # optional, only care if D is available\n",
    "D = D_samp # optional, only care if D is available\n",
    "\n",
    "megawass = MegaWass(nits_bcd=20, nits_uot=1000, tol_bcd=1e-6, tol_uot=1e-6, eval_bcd=1, eval_uot=20)\n",
    "(pi_samp, pi_feat), _, log_cost, log_ent_cost = megawass.solver_fugw_simple(\n",
    "        X=Cx,\n",
    "        Y=Cy,\n",
    "        rho=rho,\n",
    "        eps=eps,\n",
    "        alpha=alpha,\n",
    "        D=D,\n",
    "        log=True,\n",
    "        verbose=True,\n",
    "        early_stopping_tol=1e-6\n",
    "    )"
   ]
  },
  {
   "cell_type": "code",
   "execution_count": null,
   "id": "5ba5122c",
   "metadata": {},
   "outputs": [],
   "source": []
  }
 ],
 "metadata": {
  "kernelspec": {
   "display_name": "Python 3 (ipykernel)",
   "language": "python",
   "name": "python3"
  },
  "language_info": {
   "codemirror_mode": {
    "name": "ipython",
    "version": 3
   },
   "file_extension": ".py",
   "mimetype": "text/x-python",
   "name": "python",
   "nbconvert_exporter": "python",
   "pygments_lexer": "ipython3",
   "version": "3.9.7"
  }
 },
 "nbformat": 4,
 "nbformat_minor": 5
}
